{
  "nbformat": 4,
  "nbformat_minor": 0,
  "metadata": {
    "colab": {
      "name": "LDA_blei_implement.ipynb",
      "version": "0.3.2",
      "provenance": [],
      "collapsed_sections": [
        "S14RCJb5OOAl"
      ],
      "toc_visible": true
    },
    "language_info": {
      "codemirror_mode": {
        "name": "ipython",
        "version": 3
      },
      "file_extension": ".py",
      "mimetype": "text/x-python",
      "name": "python",
      "nbconvert_exporter": "python",
      "pygments_lexer": "ipython3",
      "version": "3.5.1"
    },
    "kernelspec": {
      "display_name": "Python 3",
      "language": "python",
      "name": "python3"
    }
  },
  "cells": [
    {
      "metadata": {
        "id": "0n4sOQ2CON-v",
        "colab_type": "text"
      },
      "cell_type": "markdown",
      "source": [
        "Topic Modelling with Latent Dirichlet Allocation\n",
        "==\n",
        "Paper: Latent Dirichlet Allocation\n",
        "\n",
        "Authors: David M Blei, Andrew Y Ng, Michael I Jordan "
      ]
    },
    {
      "metadata": {
        "id": "-q3XllHqON-0",
        "colab_type": "text"
      },
      "cell_type": "markdown",
      "source": [
        "## 1. Introduction"
      ]
    },
    {
      "metadata": {
        "id": "yIzYg1k2ON-3",
        "colab_type": "text"
      },
      "cell_type": "markdown",
      "source": [
        "In natural language processing, **Latent Dirichlet Allocation (LDA)** is a widely used topic model proposed by David Blei, Andrew Ng, and Michael Jordan, capable of automatically discovering topics that documents in a corpus contain and explaining similarities between documents. LDA is a three-level hierarchical Bayesian model, and topic modeling is a classic problem in natural language processing. \n",
        "\n",
        "In the following report, we first describe the mechanism of Latent Dirichlet Allocation. We then use two methods to implement LDA: Variational Inference and Collapsed Gibbs Sampling."
      ]
    },
    {
      "metadata": {
        "id": "Tw2uKiSDON-6",
        "colab_type": "text"
      },
      "cell_type": "markdown",
      "source": [
        "## 2. Algorithm Description and Notations"
      ]
    },
    {
      "metadata": {
        "id": "YCcUnl_DON-_",
        "colab_type": "text"
      },
      "cell_type": "markdown",
      "source": [
        "LDA uses a generative model to explain how the observed words in the documents of a corpus are generated from latent variables. The following shows the graphical model representation of LDA:"
      ]
    },
    {
      "metadata": {
        "colab_type": "code",
        "outputId": "95fd670f-4b3b-4bae-f553-83d063e2d50a",
        "id": "-OchM-k0hLR4",
        "colab": {
          "base_uri": "https://localhost:8080/",
          "height": 273
        }
      },
      "cell_type": "code",
      "source": [
        "from IPython.display import Image\n",
        "Image('LDA.png')"
      ],
      "execution_count": 0,
      "outputs": [
        {
          "output_type": "execute_result",
          "data": {
            "image/png": "[encoded data removed]",
            "text/plain": [
              "<IPython.core.display.Image object>"
            ]
          },
          "metadata": {
            "tags": []
          },
          "execution_count": 8
        }
      ]
    },
    {
      "metadata": {
        "id": "_OE6TFVHON_F",
        "colab_type": "text"
      },
      "cell_type": "markdown",
      "source": [
        "The boxes are \"plates\" representing replicates. The outer plate represents documents, while the inner plate represents the repeated choice of topics and words within a document. M denotes the number of document, N the number of words in a documents, and V indicates the size of the vocabulary of the corpus. We define the following terms:\n",
        "\n",
        "* $\\alpha$ is the parameter of the Dirichlet prior on the per-document topic distribution, \n",
        "* $\\beta_i$ is the word distribution for topic k\n",
        "* $\\theta_m$ is the topic distribution for document m,\n",
        "* $z_{mw}$ is the topic of word w in document m\n",
        "\n",
        "LDA assumes the following generative process for each document **m** in a corpus:\n",
        "1. Choose $N$ ~ Poisson($\\xi$).\n",
        "2. Choose $\\theta$ ~ Dir($\\alpha$).\n",
        "3. For each of the $N$ word $w_n$:\n",
        "    1. Choose a topic $z_n$ ~ Multinomial($\\theta$).\n",
        "    2. Choose a word $w_n$ from $p(w_n |z_n, \\beta)$, a multinomial probability conditioned on the topic $z_n$.\n",
        "    \n",
        "Note that the length of each document $N$ does not interact with any of the other variables and is thus just assumed to be known."
      ]
    },
    {
      "metadata": {
        "id": "6iVwzTcCON_H",
        "colab_type": "text"
      },
      "cell_type": "markdown",
      "source": [
        "### The Dirichlet Distribution"
      ]
    },
    {
      "metadata": {
        "id": "C4KA7bm8ON_K",
        "colab_type": "text"
      },
      "cell_type": "markdown",
      "source": [
        "The **Dirichlet Distribution** is the multivariate generalization of the beta distribution, which means the Dirichlet distribution is a distribution over discrete probability distributions. Dirichlet distributions are oftenly used as conjugate prior distributions of the categorical distribution and multinomial distribution in Bayesian statistics. \n",
        "\n",
        "A *k*-dimensional Dirichlet random variable $\\theta$ can take values in the (k-1)-simplex (a k-vector $\\theta$ lies in the (k-1)-simplex if ${ \\theta  }_{ i }\\ge 0,\\sum _{ i }^{ k }{ { \\alpha  }_{ i } } $), and has the following probability density on the simplex:\n",
        "\n",
        "$$p(\\theta| \\alpha) = \\frac { \\Gamma (\\sum _{ i=1 }^{ k }{ { \\alpha  }_{ i } } ) }{ \\prod _{ i=1 }^{ k }{ \\Gamma ({ \\alpha  }_{ i }) }  } { { \\theta  }_{ 1 } }^{ { \\alpha  }_{ 1 }-1 }\\cdot \\cdot \\cdot { { \\theta  }_{ k } }^{ { \\alpha  }_{ k }-1 }$$"
      ]
    },
    {
      "metadata": {
        "id": "VHqYiNSuON_N",
        "colab_type": "text"
      },
      "cell_type": "markdown",
      "source": [
        "Given the parameters $\\alpha$ and $\\beta$, the joint distribution of a topic mixture $\\theta$, a set of $N$ topics $z$, and a set of $N$ words $w$ is given by:\n",
        "\n",
        "$$\n",
        "p(\\theta, z, w|\\alpha, \\beta)=p(\\theta|\\alpha)\\prod _{ n=1 }^{ N }{ p(z_n|\\theta)p(w_n|z_n,\\beta) } \n",
        "$$\n",
        "\n",
        "where $p(z_n|\\theta)$ is simply $\\theta_i$ for the unique i such that ${ z }_{ n }^{ i }=1$. Integrating over $\\theta$ and summing over z, we obtain the marginal distribution of a document:\n",
        "\n",
        "$$\n",
        "p(w|\\alpha, \\beta) = \\int { p(\\theta |\\alpha )(\\prod _{ n=1 }^{ N }{ \\sum { p({ z }_{ n }|\\theta )p({ w }_{ n }|{ z }_{ n },\\beta ) }  } )d\\theta  } \n",
        "$$\n",
        "\n",
        "Finally, taking the product of the marginal probabilities of single documents, we obtain the probability of a corpus:\n",
        "\n",
        "$$\n",
        "p(D|\\alpha, \\beta) = \\prod _{ d=1 }^{ M }{ \\int { p(\\theta_d |\\alpha )(\\prod _{ n=1 }^{ N_d }{ \\sum { p({ z }_{ dn }|\\theta )p({ w }_{ dn }|{ z }_{ dn },\\beta ) }  } )d\\theta_d  }  } \n",
        "$$"
      ]
    },
    {
      "metadata": {
        "id": "omR0rTK1ON_S",
        "colab_type": "text"
      },
      "cell_type": "markdown",
      "source": [
        "To infer the latent parameters is a problem of Bayesian inference. Next, we use Variational Inference and Gibbs Sampling to estimate latent parameters."
      ]
    },
    {
      "metadata": {
        "id": "5-xau3A1ON_V",
        "colab_type": "text"
      },
      "cell_type": "markdown",
      "source": [
        "## 3.1 Implementation - Gibbs Sampling"
      ]
    },
    {
      "metadata": {
        "id": "aVJil1EoON_W",
        "colab_type": "text"
      },
      "cell_type": "markdown",
      "source": [
        "In the original paper, Blei, Ng and Jordan (2002) gave a variational inference approximation of the posterior distribution, because posterior distribution is usually intractable. Since then though, Gibbs Sampling has also become a commonly used way to infer latent parameters in LDA. Here, we use Gibbs Sampling to implement LDA. Gibbs Sampling is a Markov Chain Monte Carlo method, in which the next state is reached by sequentially sampling from the full conditional distributions of all other variables and the data."
      ]
    },
    {
      "metadata": {
        "id": "KXf-hRZ5ON_Y",
        "colab_type": "text"
      },
      "cell_type": "markdown",
      "source": [
        "Since the Dirichlet distribution is conjugate prior of the multinomial distribution, the posteriors of $\\theta_i$ and $\\beta_i$ also follow the Dirichlet distribution. Their posterior means are:\n",
        "\n",
        "$$\n",
        "\\theta_{i,k} = \\frac { { n }_{ i }^{ k }+{ \\alpha  }_{ k } }{ \\sum _{ k=1 }^{ K }{ { n }_{ i }^{ k }+{ \\alpha  }_{ k } }  } \n",
        "$$\n",
        "\n",
        "$$\n",
        "\\beta_{k,w} = \\frac { { n }_{ w }^{ k }+{ \\beta  }_{ w } }{ \\sum _{ w=1 }^{ W }{ { n }_{ w }^{ k }+{ \\beta  }_{ w } }  } \n",
        "$$\n",
        "\n",
        "where ${ n }_{ i }^{ k }$ is the number of words in document i that have been assigned to topic k, ${ n }_{ w }^{ k }$ is the total number words $w$ assigned to topic $k$ among all documents in the corpus.\n",
        "\n",
        "Obviously, the inference of $\\theta$ and $\\beta$ only depends on assignments of each word to topics $z_i$. Therefore, we can only focus on estimation of $z_i$. We define some terms:\n",
        "\n",
        "* $n_m$: the word count of document $m$, not including the current one \n",
        "* $n_{mz}$: the number of words from document $m$ assigned to topic $z$, not including the current one\n",
        "* $n_{zw}$: the number of instances of word $w$ assigned to topic $z$, not including the current one\n",
        "* $n_z$: the total number of words assigned to topic $z$, not including the current one"
      ]
    },
    {
      "metadata": {
        "id": "RY_Bk7RbON_Z",
        "colab_type": "text"
      },
      "cell_type": "markdown",
      "source": [
        "Then, the posterior distribution of word assignment is:\n",
        "\n",
        "$$\n",
        "p(z_i=j|z_i,w)\\propto \\frac { n_{zw} + \\phi }{ n_z + V\\phi } \\cdot \\frac { n_{mz} + \\alpha }{ n_m + K\\alpha } \n",
        "$$\n",
        "\n",
        "And we can implement LDA by Gibbs Sampling."
      ]
    },
    {
      "metadata": {
        "id": "ycThFJgION_a",
        "colab_type": "text"
      },
      "cell_type": "markdown",
      "source": [
        "### Parameters\n",
        "\n",
        "document:    $m = 1,...,M$\n",
        "\n",
        "topic asigned to word:       $z = 1,...,K$\n",
        "\n",
        "word:        $w = 1,...,N_V$\n",
        "\n",
        "vocabulary : $v = 1,...,V$\n",
        "\n",
        "Z: topic assigned to word w\n",
        "\n",
        "$\\theta: K \\times N$ \n",
        "\n",
        "$\\beta: M \\times K$ \n",
        "\n",
        "$Multinomial(\\theta)$: distribution over words for a given topic\n",
        "\n",
        "$Multinomial(\\beta)$: distribution over topics for a given document\n",
        "\n",
        "$n_m$, $n_{mz}$, $n_{zw}$, $n_z$: as defined above"
      ]
    },
    {
      "metadata": {
        "id": "gvw2cKIYON_c",
        "colab_type": "text"
      },
      "cell_type": "markdown",
      "source": [
        "#### Import packages and functions"
      ]
    },
    {
      "metadata": {
        "id": "r4F2wy8yON_f",
        "colab_type": "code",
        "colab": {}
      },
      "cell_type": "code",
      "source": [
        "import numpy as np\n",
        "from numpy import sqrt,mean,square\n",
        "from scipy.special import digamma, polygamma"
      ],
      "execution_count": 0,
      "outputs": []
    },
    {
      "metadata": {
        "id": "ZXa5E7kXON_m",
        "colab_type": "text"
      },
      "cell_type": "markdown",
      "source": [
        "### Word counting function"
      ]
    },
    {
      "metadata": {
        "id": "zhNlY4BoON_p",
        "colab_type": "code",
        "colab": {}
      },
      "cell_type": "code",
      "source": [
        "def words_count_doc(corpus):\n",
        "    \"\"\"\n",
        "    Count the total number of words in each document in corpus.\n",
        "\n",
        "    Parameters\n",
        "    ----------\n",
        "    corpus : a list-like structure, contains bag-of-words of each document\n",
        "\n",
        "    Returns\n",
        "    -------\n",
        "    n_m : a np.array, shape(M)\n",
        "         the total number of words in each document\n",
        "    \"\"\"\n",
        "    n_m = []\n",
        "    for i in range(len(corpus)):\n",
        "        n_m.append(np.sum(corpus[i], axis = 0)[1])\n",
        "    return np.array(n_m)"
      ],
      "execution_count": 0,
      "outputs": []
    },
    {
      "metadata": {
        "id": "P-XQ4CQ7ON_1",
        "colab_type": "text"
      },
      "cell_type": "markdown",
      "source": [
        "### Initialize empty parameters"
      ]
    },
    {
      "metadata": {
        "id": "UqdeS7KiON_4",
        "colab_type": "code",
        "colab": {}
      },
      "cell_type": "code",
      "source": [
        "def empty_parameters(corpus, K, V):\n",
        "    \"\"\"\n",
        "    Initialize empty parameters n_mz, n_zw, n_z.\n",
        "\n",
        "    Parameters:\n",
        "    -----------\n",
        "    K : int, the number of topics\n",
        "    V : int, the number of vocabulary\n",
        "    \n",
        "    Returns:\n",
        "    --------\n",
        "    z_mw : the topic of word w in document m\n",
        "    n_mz : the number of words from document m assigned to topic z\n",
        "    n_zw : the number of words assigned topic z\n",
        "    n_z : the total number of words assigned to topic z\n",
        "    \"\"\"\n",
        "    z_mw = []\n",
        "    n_mz = np.zeros((len(corpus), K))\n",
        "    n_zw = np.zeros((K, V))\n",
        "    n_z = np.zeros(K)\n",
        "    return z_mw, n_mz, n_zw, n_z"
      ],
      "execution_count": 0,
      "outputs": []
    },
    {
      "metadata": {
        "id": "0icoaTfTOOAC",
        "colab_type": "text"
      },
      "cell_type": "markdown",
      "source": [
        "### Initialize parameters based on words in documents"
      ]
    },
    {
      "metadata": {
        "id": "0qGHoG6sOOAE",
        "colab_type": "code",
        "colab": {}
      },
      "cell_type": "code",
      "source": [
        "def initial_parameters(corpus, K, V):\n",
        "    \"\"\"\n",
        "    Initialize parameters for the corpus \n",
        "\n",
        "    Parameters:\n",
        "    -----------\n",
        "    corpus: a list-like structure, contains bag-of-words of each document\n",
        "    K : int, the number of topics\n",
        "    V : int, the size of the vocabulary\n",
        "\n",
        "    Returns:\n",
        "    --------\n",
        "    z_mw : the topic of word w in document m\n",
        "    n_mz : the number of words from document m assigned to topic z\n",
        "    n_zw : the number of words assigned topic z\n",
        "    n_z : the total number of words assigned to topic z\n",
        "    \n",
        "    \"\"\"\n",
        "    z_mw, n_mz, n_zw, n_z = empty_parameters(corpus, K, V)\n",
        "    z_mw = []\n",
        "    for m, doc in enumerate(corpus):\n",
        "        z_n = []\n",
        "        for n, t in doc:\n",
        "            z = np.random.randint(0, K)\n",
        "            z_n.append(z)\n",
        "            n_mz[m, z] += t\n",
        "            n_zw[z, n] += t\n",
        "            n_z[z] += t\n",
        "        z_mw.append(np.array(z_n))\n",
        "    return z_mw, n_mz, n_zw, n_z"
      ],
      "execution_count": 0,
      "outputs": []
    },
    {
      "metadata": {
        "id": "dy0FG65pOOAM",
        "colab_type": "text"
      },
      "cell_type": "markdown",
      "source": [
        "## Gibbs Sampling"
      ]
    },
    {
      "metadata": {
        "id": "pIK3SwijOOAX",
        "colab_type": "code",
        "colab": {}
      },
      "cell_type": "code",
      "source": [
        "def gibbs_sampling(corpus, max_iter, K, V, n_zw, n_z, n_mz, n_m, z_mw, alpha, phi):\n",
        "    beta_gibbs = []\n",
        "    theta_gibbs = []\n",
        "    \n",
        "    np.random.seed(1337)\n",
        "    for i in range(max_iter):\n",
        "        if i%1000 == 0:\n",
        "            print(i)\n",
        "        for m, doc in enumerate(corpus):\n",
        "            for n, (w, t) in enumerate(doc):\n",
        "                #exclude the current word\n",
        "                z = z_mw[m][n]\n",
        "                n_mz[m, z] -= t\n",
        "                n_m[m] -= t\n",
        "                n_zw[z, w] -= t\n",
        "                n_z[z] -= t\n",
        "        \n",
        "                new_z = sample_topic(K, n_zw, n_z, n_mz, n_m, alpha, phi, w, m)\n",
        "\n",
        "                #include the current word\n",
        "                z_mw[m][n] = new_z\n",
        "                n_mz[m, new_z] += t\n",
        "                n_zw[new_z, w] += t\n",
        "                n_z[new_z] += t\n",
        "                n_m[m] += t\n",
        "\n",
        "        #update beta\n",
        "        beta_gibbs.append(update_beta(V, n_zw, n_z, alpha))\n",
        "        #update theta\n",
        "        theta_gibbs.append(update_theta(K, n_mz, n_m, phi))\n",
        "    return beta_gibbs, theta_gibbs\n",
        "\n",
        "def sample_topic(K, n_zw, n_z, n_mz, n_m, alpha, phi, w, m):\n",
        "    \"\"\"\n",
        "    Sample new topic for current word\n",
        "    \n",
        "    \"\"\"\n",
        "    p_z = np.zeros(K)\n",
        "    for j in range(K):\n",
        "        p_z[j] = ((n_zw[j, w] + phi)/(n_z[j] + V * phi)) * ((n_mz[m, j] + alpha)/(n_m[m] + K * alpha))\n",
        "    new_z = np.random.multinomial(1, p_z/p_z.sum()).argmax()\n",
        "    return new_z    \n",
        "\n",
        "def update_beta(V, n_zw, n_z, alpha):\n",
        "    \"\"\"\n",
        "    Update beta\n",
        "    \"\"\"\n",
        "    beta = (n_zw + alpha)/(n_z[:,None] + V *alpha)\n",
        "    return beta\n",
        "\n",
        "def update_theta(K, n_mz, n_m, phi):\n",
        "    \"\"\"\n",
        "    Update theta\n",
        "    \"\"\"\n",
        "    theta = (n_mz + phi)/(n_m[:, None] + K * phi)\n",
        "    return theta"
      ],
      "execution_count": 0,
      "outputs": []
    },
    {
      "metadata": {
        "id": "1l4blvWGOOAg",
        "colab_type": "text"
      },
      "cell_type": "markdown",
      "source": [
        "## 3.2 Implementation - Variational Inference"
      ]
    },
    {
      "metadata": {
        "id": "TfDNLWjUOOAj",
        "colab_type": "text"
      },
      "cell_type": "markdown",
      "source": [
        "Latent Dirichlet Allocation was also implemented using variational inference. In situations where variational inference is typically used, the posterior is typically intractable to calculate directly. In the case of LDA, the posterior $p(\\theta,z,w | \\alpha,\\beta)$ is difficult to compute, so the distribution is instead approximated with the variational distribution:\n",
        "\n",
        "$$q(\\theta,z | \\gamma,\\phi) = q(\\theta|\\gamma) \\prod_{n=1}^{N} q(z_n|\\phi_n)$$\n",
        "\n",
        "Using Jensen's inequality, it can be shown that the difference between the log likelihood of the true posterior and the variational approximation is the KL-divergence between the two. In order words:\n",
        "\n",
        "$$ \\log(p(w|\\alpha,\\beta) = L(\\gamma,\\phi;\\alpha,\\beta) + D(q(\\theta,z|\\gamma,\\phi)||p(\\theta,z|w,\\alpha,\\beta))$$\n",
        "\n",
        "We can choose to either minimize the KL-divergence or maximize the likelihood. Here, the latter is approach is taken. Factoring the likelihood appropriately, we can write the following:\n",
        "\n",
        "$$ L(\\gamma,\\phi;\\alpha,\\beta) = E_q[\\log p(\\theta|\\alpha)] + E_q[\\log p(z|\\theta)] + E_q [\\log p(w|z,\\beta)] - E_q [\\log q(\\theta)] - E_q[\\log q(z)] $$\n",
        "\n",
        "This likelihood is maximized through Expectation-Maximization (EM). During the expectation step, the variational parameters $\\phi$ and $\\gamma$ are first optimized by maximizing the likelihood with respect to each individually. During the maximization step, the likelihood is then maximized with respect to model parameters $\\alpha$ and $\\beta$. This process is outlined below."
      ]
    },
    {
      "metadata": {
        "id": "S14RCJb5OOAl",
        "colab_type": "text"
      },
      "cell_type": "markdown",
      "source": [
        "### Variables and Parameters\n",
        "\n",
        "document:    $m = 1,...,M$\n",
        "\n",
        "topic:       $z = 1,...,k$\n",
        "\n",
        "word:        $w = 1,...,N_m$\n",
        "\n",
        "vocabulary : $v = 1,...,V$\n",
        "\n",
        "$\\alpha: 1 \\times k$ Model parameter - vector of topic distribution probabilities for each document\n",
        "\n",
        "$\\beta: k \\times v$ Model parameter - matrix of word probabilities for each topic\n",
        "\n",
        "$\\phi: M \\times N_m \\times k$ Variational parameter - matrix of topic probabilities for each word in each document\n",
        "\n",
        "$\\gamma: M \\times k$ Variational parameter - matrix of topic probabilities for each document"
      ]
    },
    {
      "metadata": {
        "id": "IdPvrAh3OOAn",
        "colab_type": "text"
      },
      "cell_type": "markdown",
      "source": [
        "### Optimize variational parameters $\\phi$ and $\\gamma$\n",
        "\n",
        "By taking the derivative the log likelihood with respect to $\\phi$ and setting the result to zero, we find the maximal value of $\\phi$:\n",
        "\n",
        "$$ \\phi_{ni} \\propto \\beta_{iv} \\exp(\\Psi(\\gamma_i) - \\Psi(\\sum_{j=1}^k(\\gamma_j)) $$\n",
        "\n",
        "where $\\beta_{iv}$ = $p(w_n^v = 1|z_n = i)$ and $\\Psi$ is the digamma function (derivative of the log gamma function $\\Gamma$). As $\\phi$ represents the probability of each word in a document for each latent topic, these values must be normalized such that each row representing a word position within a document must sum to 1.\n",
        "\n",
        "\n",
        "In a similar fashion, it can be shown that $\\gamma$ is maximized at:\n",
        "\n",
        "$$ \\gamma_i = \\alpha_i + \\sum_{n=1}^N(\\phi_{ni})$$"
      ]
    },
    {
      "metadata": {
        "id": "7cznN_r2OOAr",
        "colab_type": "code",
        "colab": {}
      },
      "cell_type": "code",
      "source": [
        "## Optimize variational parameter phi\n",
        "def opt_phi(beta,gamma,words,M,N,k):\n",
        "    for m in range(M):\n",
        "        for n in range(N[m]):\n",
        "            for i in range(k):\n",
        "                phi[m][n,i] = int(np.round(beta[words[m][n],i], 0)) * int(np.round(np.exp(digamma(gamma[m,i]), 0)) - int(np.round(digamma(np.sum(gamma[m,:]))), 0))\n",
        "            # Normalize across states so phi represents probability over states for each word\n",
        "            phi[m][n,:] = phi[m][n,:]/np.sum(phi[m][n,:])\n",
        "    return phi\n",
        "\n",
        "\n",
        "## Optimize variational parameter gamma\n",
        "def opt_gamma(alpha,phi,M):\n",
        "    gamma = np.tile(alpha,(M,1)) + np.array(list(map(lambda x: np.sum(x,axis=0),phi)))\n",
        "    return gamma"
      ],
      "execution_count": 0,
      "outputs": []
    },
    {
      "metadata": {
        "id": "FUL6jkbMOOA7",
        "colab_type": "text"
      },
      "cell_type": "markdown",
      "source": [
        "### Estimate model parameters $\\alpha$ and $\\beta$\n",
        "\n",
        "By taking the derivative of the log likelihood and applying the appropriate Lagrange multipliers to ensure probabilities sum to 1, we find that $/beta$ is maximized with:\n",
        "\n",
        "$$ \\beta_{ij} \\propto \\sum_{m=1}^M \\sum_{n=1}^{N_m} \\phi_{dni}w_{mn}^j$$\n",
        "\n",
        "where $w_{mn}^j$ = 1 if the $n^{th}$ word of document $m$ is equal to $j$, and 0 otherwise. Since the columns of \\beta represent the probability of each word given the topic of that particular column, they must be normalized to sum to 1.\n",
        "\n",
        "Taking the derivative of the log likelihood with respect to $\\alpha$ yields:\n",
        "\n",
        "$$ \\frac{\\partial L}{\\partial\\alpha_i} = M(\\Psi(\\sum_{j=1}^k\\alpha_j)-\\Psi(\\alpha_i)) - \\sum_{m=1}^M(\\Psi(\\gamma_{di})-\\Psi(\\sum_{j=1}^k\\gamma_{dj}))$$\n",
        "\n",
        "Because this is difficult to find the zero intercept of this derivative, $\\alpha$ is instead maximized numerically with the Newton-Raphson method. The Hessian is of the form:\n",
        "\n",
        "$$ \\frac{\\partial^2 L}{\\partial\\alpha_i\\partial\\alpha_j} = M(\\Psi'(\\sum_{j=1}^k \\alpha_j) - \\delta(i,j)\\Psi'(\\alpha_i))$$ \n",
        "\n",
        "Note: This is slightly different from what is stated in the paper, which has a couple errors in the reported form of the Hessian."
      ]
    },
    {
      "metadata": {
        "id": "YA-2hK2NOOA_",
        "colab_type": "code",
        "colab": {}
      },
      "cell_type": "code",
      "source": [
        "## Optimize beta\n",
        "def est_beta(phi,words,k,V):\n",
        "    for j in range (V):\n",
        "        # Construct w_mn == j of same shape as phi\n",
        "        w_mnj = [np.tile((word == j),(k,1)).T for word in words]\n",
        "        beta[j,:] = np.sum(np.array(list(map(lambda x: np.sum(x,axis=0),phi*w_mnj))),axis=0)\n",
        "        \n",
        "    # Normalize across states so beta represents probability of each word given the state\n",
        "    for i in range(k):\n",
        "        beta[:,i] = beta[:,i]/sum(beta[:,i])\n",
        "        \n",
        "    return beta\n",
        "\n",
        "\n",
        "## Optimize alpha\n",
        "#  (Newton-Raphson method, for a Hessian with special structure)\n",
        "def est_alpha(alpha,gamma,M,k,nr_max_iters = 1000,tol = 10**-2.0):\n",
        "    for it in range(nr_max_iters):\n",
        "        alpha_old = alpha\n",
        "        \n",
        "        #  Calculate gradient \n",
        "        g = M*(digamma(np.sum(alpha))-digamma(alpha)) + np.sum(digamma(gamma)-np.tile(digamma(np.sum(gamma,axis=1)),(k,1)).T,axis=0)\n",
        "        #  Calculate Hessian diagonal component\n",
        "        h = -M*polygamma(1,alpha) \n",
        "        #  Calculate Hessian constant component\n",
        "        z = M*polygamma(1,np.sum(alpha))\n",
        "        #  Calculate constant\n",
        "        c = np.sum(g/h)/(z**(-1.0)+np.sum(h**(-1.0)))\n",
        "\n",
        "        #  Update alpha\n",
        "        alpha = alpha - (g-c)/h\n",
        "        \n",
        "        #  Check convergence\n",
        "        if sqrt(mean(square(alpha-alpha_old)))<tol:\n",
        "            break\n",
        "        \n",
        "    return alpha"
      ],
      "execution_count": 0,
      "outputs": []
    },
    {
      "metadata": {
        "id": "3lHItxksOODS",
        "colab_type": "text"
      },
      "cell_type": "markdown",
      "source": [
        "## 4. Conclusion"
      ]
    },
    {
      "metadata": {
        "id": "LC9avpSEOODT",
        "colab_type": "text"
      },
      "cell_type": "markdown",
      "source": [
        "We implemented in Python via Gibbs Sampling and Variational Inference. Using the Dirchlet distribution as a prior, the goal was to discover latent topics among documents in a corpus. We simulated a dataset according to the generative process in Blei et al's paper. We then used LDA to estimate the latent variables and compared them with real latent variables in the generating process. We can try to improve the performance of our Gibbs sampling method with Cython."
      ]
    },
    {
      "metadata": {
        "id": "exVzH8OtOODU",
        "colab_type": "text"
      },
      "cell_type": "markdown",
      "source": [
        "## References"
      ]
    },
    {
      "metadata": {
        "id": "2hm9PT13OODV",
        "colab_type": "text"
      },
      "cell_type": "markdown",
      "source": [
        "[1] Blei, David M., Andrew Y. Ng, and Michael I. Jordan. \"Latent dirichlet allocation.\" the Journal of machine Learning research 3 (2003): 993-1022.\n",
        "\n",
        "[2] Griffiths, Tom. \"Gibbs sampling in the generative model of latent dirichlet allocation.\" (2002)."
      ]
    }
  ]
}